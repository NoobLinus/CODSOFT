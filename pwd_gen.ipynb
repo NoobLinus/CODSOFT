{
 "cells": [
  {
   "cell_type": "code",
   "execution_count": 1,
   "id": "2e6733ba",
   "metadata": {},
   "outputs": [
    {
     "name": "stdout",
     "output_type": "stream",
     "text": [
      "----Codsoft Task-2----\n",
      "PASSWORD GENERATOR\n",
      "Enter password length: 12\n",
      "Include punctuation? (yes/no): yes\n",
      "Include digits? (yes/no): no\n",
      "Generated Password: WsC=dW{QP`[Y\n",
      "Satisfied with the password? (yes/no): no\n",
      "Generated Password: K~R\\=M\\?YRM$\n",
      "Satisfied with the password? (yes/no): no\n",
      "Generated Password: @*/V(]/\\tky~\n",
      "Satisfied with the password? (yes/no): no\n",
      "Generated Password: P/Lu:vdn$NSb\n",
      "Satisfied with the password? (yes/no): yes\n"
     ]
    }
   ],
   "source": [
    "print(\"----Codsoft Task-2----\")\n",
    "print(\"PASSWORD GENERATOR\")\n",
    "\n",
    "# Importing libraries\n",
    "import random\n",
    "import string\n",
    "\n",
    "def gen_pwd(len, use_punc=True, use_num=True):\n",
    "    chars = string.ascii_letters\n",
    "    if use_punc:\n",
    "        chars += string.punctuation\n",
    "    if use_num:\n",
    "        chars += string.digits\n",
    "\n",
    "    pwd = ''.join(random.choice(chars) for _ in range(len))\n",
    "    return pwd\n",
    "\n",
    "# Asking user for password length and character types\n",
    "while True:\n",
    "    len = input(\"Enter password length: \")\n",
    "\n",
    "    if len.isdigit() and int(len) > 0:\n",
    "        len = int(len)\n",
    "        break\n",
    "    else:\n",
    "        print(\"Invalid input. Please enter a positive integer.\")\n",
    "\n",
    "use_punc = input(\"Include punctuation? (yes/no): \").lower() == 'yes'\n",
    "use_num = input(\"Include digits? (yes/no): \").lower() == 'yes'\n",
    "\n",
    "# Generating and displaying the password\n",
    "while True:\n",
    "    pwd = gen_pwd(len, use_punc, use_num)\n",
    "    print(\"Generated Password:\", pwd)\n",
    "    \n",
    "    satisfied = input(\"Satisfied with the password? (yes/no): \").lower()\n",
    "    \n",
    "    if satisfied == 'yes':\n",
    "        break\n"
   ]
  },
  {
   "cell_type": "code",
   "execution_count": null,
   "id": "03e81a77",
   "metadata": {},
   "outputs": [],
   "source": []
  }
 ],
 "metadata": {
  "kernelspec": {
   "display_name": "Python 3 (ipykernel)",
   "language": "python",
   "name": "python3"
  },
  "language_info": {
   "codemirror_mode": {
    "name": "ipython",
    "version": 3
   },
   "file_extension": ".py",
   "mimetype": "text/x-python",
   "name": "python",
   "nbconvert_exporter": "python",
   "pygments_lexer": "ipython3",
   "version": "3.11.4"
  }
 },
 "nbformat": 4,
 "nbformat_minor": 5
}
